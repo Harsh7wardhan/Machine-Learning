{
 "cells": [
  {
   "cell_type": "code",
   "execution_count": 1,
   "metadata": {
    "_cell_guid": "b1076dfc-b9ad-4769-8c92-a6c4dae69d19",
    "_uuid": "8f2839f25d086af736a60e9eeb907d3b93b6e0e5",
    "execution": {
     "iopub.execute_input": "2021-04-05T18:04:33.609907Z",
     "iopub.status.busy": "2021-04-05T18:04:33.609313Z",
     "iopub.status.idle": "2021-04-05T18:04:35.366362Z",
     "shell.execute_reply": "2021-04-05T18:04:35.366901Z"
    },
    "papermill": {
     "duration": 1.783554,
     "end_time": "2021-04-05T18:04:35.367210",
     "exception": false,
     "start_time": "2021-04-05T18:04:33.583656",
     "status": "completed"
    },
    "tags": []
   },
   "outputs": [],
   "source": [
    "import re\n",
    "import os\n",
    "import string\n",
    "import unicodedata\n",
    "\n",
    "import numpy as np\n",
    "import pandas as pd\n",
    "import seaborn as sns\n",
    "import matplotlib.pyplot as plt\n",
    "\n",
    "from nltk.stem.porter import PorterStemmer\n",
    "from nltk.corpus import words\n",
    "word_dict = words.words()\n",
    "stemmer = PorterStemmer()"
   ]
  },
  {
   "cell_type": "markdown",
   "metadata": {
    "papermill": {
     "duration": 0.017905,
     "end_time": "2021-04-05T18:04:35.405405",
     "exception": false,
     "start_time": "2021-04-05T18:04:35.387500",
     "status": "completed"
    },
    "tags": []
   },
   "source": [
    "# Read data"
   ]
  },
  {
   "cell_type": "code",
   "execution_count": 2,
   "metadata": {
    "execution": {
     "iopub.execute_input": "2021-04-05T18:04:35.453180Z",
     "iopub.status.busy": "2021-04-05T18:04:35.452602Z",
     "iopub.status.idle": "2021-04-05T18:04:35.534709Z",
     "shell.execute_reply": "2021-04-05T18:04:35.534177Z"
    },
    "papermill": {
     "duration": 0.111497,
     "end_time": "2021-04-05T18:04:35.534836",
     "exception": false,
     "start_time": "2021-04-05T18:04:35.423339",
     "status": "completed"
    },
    "tags": []
   },
   "outputs": [
    {
     "name": "stdout",
     "output_type": "stream",
     "text": [
      "Train dataset shape: (7613, 5)\n",
      "Test dataset shape: (3263, 4)\n"
     ]
    }
   ],
   "source": [
    "train_df = pd.read_csv('/kaggle/input/nlp-getting-started/train.csv')\n",
    "test_df = pd.read_csv('/kaggle/input/nlp-getting-started/test.csv')\n",
    "print('Train dataset shape:', train_df.shape)\n",
    "print('Test dataset shape:', test_df.shape)"
   ]
  },
  {
   "cell_type": "code",
   "execution_count": 3,
   "metadata": {
    "execution": {
     "iopub.execute_input": "2021-04-05T18:04:35.585302Z",
     "iopub.status.busy": "2021-04-05T18:04:35.584614Z",
     "iopub.status.idle": "2021-04-05T18:04:35.601011Z",
     "shell.execute_reply": "2021-04-05T18:04:35.601490Z"
    },
    "papermill": {
     "duration": 0.047846,
     "end_time": "2021-04-05T18:04:35.601640",
     "exception": false,
     "start_time": "2021-04-05T18:04:35.553794",
     "status": "completed"
    },
    "tags": []
   },
   "outputs": [
    {
     "data": {
      "text/html": [
       "<div>\n",
       "<style scoped>\n",
       "    .dataframe tbody tr th:only-of-type {\n",
       "        vertical-align: middle;\n",
       "    }\n",
       "\n",
       "    .dataframe tbody tr th {\n",
       "        vertical-align: top;\n",
       "    }\n",
       "\n",
       "    .dataframe thead th {\n",
       "        text-align: right;\n",
       "    }\n",
       "</style>\n",
       "<table border=\"1\" class=\"dataframe\">\n",
       "  <thead>\n",
       "    <tr style=\"text-align: right;\">\n",
       "      <th></th>\n",
       "      <th>id</th>\n",
       "      <th>keyword</th>\n",
       "      <th>location</th>\n",
       "      <th>text</th>\n",
       "      <th>target</th>\n",
       "    </tr>\n",
       "  </thead>\n",
       "  <tbody>\n",
       "    <tr>\n",
       "      <th>0</th>\n",
       "      <td>1</td>\n",
       "      <td>NaN</td>\n",
       "      <td>NaN</td>\n",
       "      <td>Our Deeds are the Reason of this #earthquake M...</td>\n",
       "      <td>1</td>\n",
       "    </tr>\n",
       "    <tr>\n",
       "      <th>1</th>\n",
       "      <td>4</td>\n",
       "      <td>NaN</td>\n",
       "      <td>NaN</td>\n",
       "      <td>Forest fire near La Ronge Sask. Canada</td>\n",
       "      <td>1</td>\n",
       "    </tr>\n",
       "    <tr>\n",
       "      <th>2</th>\n",
       "      <td>5</td>\n",
       "      <td>NaN</td>\n",
       "      <td>NaN</td>\n",
       "      <td>All residents asked to 'shelter in place' are ...</td>\n",
       "      <td>1</td>\n",
       "    </tr>\n",
       "    <tr>\n",
       "      <th>3</th>\n",
       "      <td>6</td>\n",
       "      <td>NaN</td>\n",
       "      <td>NaN</td>\n",
       "      <td>13,000 people receive #wildfires evacuation or...</td>\n",
       "      <td>1</td>\n",
       "    </tr>\n",
       "    <tr>\n",
       "      <th>4</th>\n",
       "      <td>7</td>\n",
       "      <td>NaN</td>\n",
       "      <td>NaN</td>\n",
       "      <td>Just got sent this photo from Ruby #Alaska as ...</td>\n",
       "      <td>1</td>\n",
       "    </tr>\n",
       "  </tbody>\n",
       "</table>\n",
       "</div>"
      ],
      "text/plain": [
       "   id keyword location                                               text  \\\n",
       "0   1     NaN      NaN  Our Deeds are the Reason of this #earthquake M...   \n",
       "1   4     NaN      NaN             Forest fire near La Ronge Sask. Canada   \n",
       "2   5     NaN      NaN  All residents asked to 'shelter in place' are ...   \n",
       "3   6     NaN      NaN  13,000 people receive #wildfires evacuation or...   \n",
       "4   7     NaN      NaN  Just got sent this photo from Ruby #Alaska as ...   \n",
       "\n",
       "   target  \n",
       "0       1  \n",
       "1       1  \n",
       "2       1  \n",
       "3       1  \n",
       "4       1  "
      ]
     },
     "execution_count": 3,
     "metadata": {},
     "output_type": "execute_result"
    }
   ],
   "source": [
    "train_df.head()"
   ]
  },
  {
   "cell_type": "markdown",
   "metadata": {
    "papermill": {
     "duration": 0.021677,
     "end_time": "2021-04-05T18:04:35.642692",
     "exception": false,
     "start_time": "2021-04-05T18:04:35.621015",
     "status": "completed"
    },
    "tags": []
   },
   "source": [
    "# Missing values"
   ]
  },
  {
   "cell_type": "code",
   "execution_count": 4,
   "metadata": {
    "execution": {
     "iopub.execute_input": "2021-04-05T18:04:35.700859Z",
     "iopub.status.busy": "2021-04-05T18:04:35.691112Z",
     "iopub.status.idle": "2021-04-05T18:04:35.705816Z",
     "shell.execute_reply": "2021-04-05T18:04:35.706707Z"
    },
    "papermill": {
     "duration": 0.043559,
     "end_time": "2021-04-05T18:04:35.706880",
     "exception": false,
     "start_time": "2021-04-05T18:04:35.663321",
     "status": "completed"
    },
    "tags": []
   },
   "outputs": [
    {
     "name": "stdout",
     "output_type": "stream",
     "text": [
      "Missing values in Training dataset\n",
      "id: 0.00%\n",
      "keyword: 0.80%\n",
      "location: 33.27%\n",
      "text: 0.00%\n",
      "target: 0.00%\n",
      "\n",
      "Missing values in Test dataset\n",
      "id: 0.00%\n",
      "keyword: 0.80%\n",
      "location: 33.86%\n",
      "text: 0.00%\n",
      "\n"
     ]
    }
   ],
   "source": [
    "def print_missing_values(df, name):\n",
    "    print(f'Missing values in { name}')\n",
    "    for col in df.columns:\n",
    "        col_missing = df[col].isna().sum()\n",
    "        print(f'{col}: {100*col_missing/len(df):.2f}%',)\n",
    "    print()\n",
    "print_missing_values(train_df, 'Training dataset')\n",
    "print_missing_values(test_df, 'Test dataset')"
   ]
  },
  {
   "cell_type": "code",
   "execution_count": 5,
   "metadata": {
    "execution": {
     "iopub.execute_input": "2021-04-05T18:04:35.757146Z",
     "iopub.status.busy": "2021-04-05T18:04:35.756512Z",
     "iopub.status.idle": "2021-04-05T18:04:35.759407Z",
     "shell.execute_reply": "2021-04-05T18:04:35.759811Z"
    },
    "papermill": {
     "duration": 0.032078,
     "end_time": "2021-04-05T18:04:35.759961",
     "exception": false,
     "start_time": "2021-04-05T18:04:35.727883",
     "status": "completed"
    },
    "tags": []
   },
   "outputs": [],
   "source": [
    "train_df = train_df.fillna('unk')\n",
    "test_df = test_df.fillna('unk')"
   ]
  },
  {
   "cell_type": "markdown",
   "metadata": {
    "papermill": {
     "duration": 0.019521,
     "end_time": "2021-04-05T18:04:35.799217",
     "exception": false,
     "start_time": "2021-04-05T18:04:35.779696",
     "status": "completed"
    },
    "tags": []
   },
   "source": [
    "# Duplicated values"
   ]
  },
  {
   "cell_type": "code",
   "execution_count": 6,
   "metadata": {
    "execution": {
     "iopub.execute_input": "2021-04-05T18:04:35.848949Z",
     "iopub.status.busy": "2021-04-05T18:04:35.848034Z",
     "iopub.status.idle": "2021-04-05T18:04:35.874717Z",
     "shell.execute_reply": "2021-04-05T18:04:35.874104Z"
    },
    "papermill": {
     "duration": 0.054801,
     "end_time": "2021-04-05T18:04:35.874851",
     "exception": false,
     "start_time": "2021-04-05T18:04:35.820050",
     "status": "completed"
    },
    "tags": []
   },
   "outputs": [
    {
     "name": "stdout",
     "output_type": "stream",
     "text": [
      "There is 52 duplicated records in training dataset.\n",
      "There is 11 duplicated records in test dataset.\n"
     ]
    }
   ],
   "source": [
    "cols = ['text', 'target', 'keyword', 'location']\n",
    "dups_df = train_df[train_df.duplicated(subset = cols,)].sort_values(by = cols)\n",
    "print(f'There is {len(dups_df)} duplicated records in training dataset.')\n",
    "\n",
    "cols = ['text', 'keyword', 'location']\n",
    "dups_df = test_df[test_df.duplicated(subset = cols,)].sort_values(by = cols)\n",
    "print(f'There is {len(dups_df)} duplicated records in test dataset.')"
   ]
  },
  {
   "cell_type": "markdown",
   "metadata": {
    "papermill": {
     "duration": 0.02002,
     "end_time": "2021-04-05T18:04:35.914636",
     "exception": false,
     "start_time": "2021-04-05T18:04:35.894616",
     "status": "completed"
    },
    "tags": []
   },
   "source": [
    "We should remove those duplicated records from training set."
   ]
  },
  {
   "cell_type": "code",
   "execution_count": 7,
   "metadata": {
    "execution": {
     "iopub.execute_input": "2021-04-05T18:04:35.962968Z",
     "iopub.status.busy": "2021-04-05T18:04:35.961895Z",
     "iopub.status.idle": "2021-04-05T18:04:35.972727Z",
     "shell.execute_reply": "2021-04-05T18:04:35.972186Z"
    },
    "papermill": {
     "duration": 0.037382,
     "end_time": "2021-04-05T18:04:35.972864",
     "exception": false,
     "start_time": "2021-04-05T18:04:35.935482",
     "status": "completed"
    },
    "tags": []
   },
   "outputs": [],
   "source": [
    "cols = ['text', 'target', 'keyword', 'location']\n",
    "train_df = train_df.drop_duplicates(cols).reset_index(drop = True)"
   ]
  },
  {
   "cell_type": "markdown",
   "metadata": {
    "papermill": {
     "duration": 0.020378,
     "end_time": "2021-04-05T18:04:36.015046",
     "exception": false,
     "start_time": "2021-04-05T18:04:35.994668",
     "status": "completed"
    },
    "tags": []
   },
   "source": [
    "## Duplicated text"
   ]
  },
  {
   "cell_type": "code",
   "execution_count": 8,
   "metadata": {
    "execution": {
     "iopub.execute_input": "2021-04-05T18:04:36.064069Z",
     "iopub.status.busy": "2021-04-05T18:04:36.063405Z",
     "iopub.status.idle": "2021-04-05T18:04:36.089563Z",
     "shell.execute_reply": "2021-04-05T18:04:36.088918Z"
    },
    "papermill": {
     "duration": 0.054171,
     "end_time": "2021-04-05T18:04:36.089702",
     "exception": false,
     "start_time": "2021-04-05T18:04:36.035531",
     "status": "completed"
    },
    "tags": []
   },
   "outputs": [
    {
     "name": "stdout",
     "output_type": "stream",
     "text": [
      "There is 58 duplicated tweets in training dataset.\n"
     ]
    },
    {
     "data": {
      "text/html": [
       "<div>\n",
       "<style scoped>\n",
       "    .dataframe tbody tr th:only-of-type {\n",
       "        vertical-align: middle;\n",
       "    }\n",
       "\n",
       "    .dataframe tbody tr th {\n",
       "        vertical-align: top;\n",
       "    }\n",
       "\n",
       "    .dataframe thead th {\n",
       "        text-align: right;\n",
       "    }\n",
       "</style>\n",
       "<table border=\"1\" class=\"dataframe\">\n",
       "  <thead>\n",
       "    <tr style=\"text-align: right;\">\n",
       "      <th></th>\n",
       "      <th>text_dup_times</th>\n",
       "      <th>keyword</th>\n",
       "      <th>target</th>\n",
       "      <th>location</th>\n",
       "    </tr>\n",
       "  </thead>\n",
       "  <tbody>\n",
       "    <tr>\n",
       "      <th>0</th>\n",
       "      <td>1</td>\n",
       "      <td>40</td>\n",
       "      <td>40</td>\n",
       "      <td>40</td>\n",
       "    </tr>\n",
       "    <tr>\n",
       "      <th>1</th>\n",
       "      <td>2</td>\n",
       "      <td>7</td>\n",
       "      <td>11</td>\n",
       "      <td>14</td>\n",
       "    </tr>\n",
       "    <tr>\n",
       "      <th>2</th>\n",
       "      <td>4</td>\n",
       "      <td>1</td>\n",
       "      <td>1</td>\n",
       "      <td>4</td>\n",
       "    </tr>\n",
       "  </tbody>\n",
       "</table>\n",
       "</div>"
      ],
      "text/plain": [
       "   text_dup_times  keyword  target  location\n",
       "0               1       40      40        40\n",
       "1               2        7      11        14\n",
       "2               4        1       1         4"
      ]
     },
     "execution_count": 8,
     "metadata": {},
     "output_type": "execute_result"
    }
   ],
   "source": [
    "cols = ['text']\n",
    "dups_df = train_df[train_df.duplicated(subset = cols)].sort_values(by = cols)\n",
    "print(f'There is {len(dups_df)} duplicated tweets in training dataset.')\n",
    "dups_df = dups_df.groupby(cols).agg({\n",
    "    'id':'count',\n",
    "    'keyword': 'nunique',\n",
    "    'target': 'nunique',\n",
    "    'location': 'nunique',\n",
    "}).reset_index().rename(columns = {'id': 'text_dup_times'})\n",
    "dups_df.groupby('text_dup_times').agg({\n",
    "    'keyword': 'sum',\n",
    "    'target': 'sum',\n",
    "    'location': 'sum',\n",
    "}).reset_index()"
   ]
  },
  {
   "cell_type": "markdown",
   "metadata": {
    "papermill": {
     "duration": 0.021508,
     "end_time": "2021-04-05T18:04:36.132898",
     "exception": false,
     "start_time": "2021-04-05T18:04:36.111390",
     "status": "completed"
    },
    "tags": []
   },
   "source": [
    "**It looks to me that:**\n",
    "* When the same tweet is duplicated 4 time, it refers to disaster/not disaster with the same keyword in 4 locations (this can't be true). those duplicated tweets should be deleted\n",
    "* When the same tweet is duplicated 2 or 1 time, it was classified as disaster sometimes and sometimes as not a disastor. This is also noise in the data. We should delete those records but we should be careful about the label. We can elelmiate those duplicated tweets by voting on thier labels"
   ]
  },
  {
   "cell_type": "code",
   "execution_count": 9,
   "metadata": {
    "execution": {
     "iopub.execute_input": "2021-04-05T18:04:36.184926Z",
     "iopub.status.busy": "2021-04-05T18:04:36.184366Z",
     "iopub.status.idle": "2021-04-05T18:04:44.469695Z",
     "shell.execute_reply": "2021-04-05T18:04:44.470260Z"
    },
    "papermill": {
     "duration": 8.315534,
     "end_time": "2021-04-05T18:04:44.470459",
     "exception": false,
     "start_time": "2021-04-05T18:04:36.154925",
     "status": "completed"
    },
    "tags": []
   },
   "outputs": [],
   "source": [
    "train_df = train_df.groupby(by = ['text']).agg({\n",
    "    'id': 'first',\n",
    "    'location': lambda x:x.value_counts().index[0],\n",
    "    'keyword':lambda x:x.value_counts().index[0],\n",
    "    'target': lambda x:x.value_counts().index[0],\n",
    "}).reset_index()"
   ]
  },
  {
   "cell_type": "markdown",
   "metadata": {
    "papermill": {
     "duration": 0.022133,
     "end_time": "2021-04-05T18:04:44.515444",
     "exception": false,
     "start_time": "2021-04-05T18:04:44.493311",
     "status": "completed"
    },
    "tags": []
   },
   "source": [
    "# Target Column"
   ]
  },
  {
   "cell_type": "code",
   "execution_count": 10,
   "metadata": {
    "execution": {
     "iopub.execute_input": "2021-04-05T18:04:44.568065Z",
     "iopub.status.busy": "2021-04-05T18:04:44.567155Z",
     "iopub.status.idle": "2021-04-05T18:04:44.888399Z",
     "shell.execute_reply": "2021-04-05T18:04:44.887558Z"
    },
    "papermill": {
     "duration": 0.350818,
     "end_time": "2021-04-05T18:04:44.888527",
     "exception": false,
     "start_time": "2021-04-05T18:04:44.537709",
     "status": "completed"
    },
    "tags": []
   },
   "outputs": [
    {
     "data": {
      "image/png": "[encoded data removed]",
      "text/plain": [
       "<Figure size 360x360 with 1 Axes>"
      ]
     },
     "metadata": {
      "needs_background": "light"
     },
     "output_type": "display_data"
    }
   ],
   "source": [
    "sns.displot(x = 'target', hue = 'target', data = train_df, palette = ['green', 'red'], legend = False)\n",
    "plt.legend(['No disaster', 'disaster'])\n",
    "plt.show()"
   ]
  },
  {
   "cell_type": "markdown",
   "metadata": {
    "papermill": {
     "duration": 0.021947,
     "end_time": "2021-04-05T18:04:44.932231",
     "exception": false,
     "start_time": "2021-04-05T18:04:44.910284",
     "status": "completed"
    },
    "tags": []
   },
   "source": [
    "# Location Column"
   ]
  },
  {
   "cell_type": "code",
   "execution_count": 11,
   "metadata": {
    "execution": {
     "iopub.execute_input": "2021-04-05T18:04:44.986526Z",
     "iopub.status.busy": "2021-04-05T18:04:44.985082Z",
     "iopub.status.idle": "2021-04-05T18:04:50.191900Z",
     "shell.execute_reply": "2021-04-05T18:04:50.191232Z"
    },
    "papermill": {
     "duration": 5.236949,
     "end_time": "2021-04-05T18:04:50.192037",
     "exception": false,
     "start_time": "2021-04-05T18:04:44.955088",
     "status": "completed"
    },
    "tags": []
   },
   "outputs": [
    {
     "data": {
      "text/plain": [
       "<matplotlib.legend.Legend at 0x7efe75c1e310>"
      ]
     },
     "execution_count": 11,
     "metadata": {},
     "output_type": "execute_result"
    },
    {
     "data": {
      "image/png": "[encoded data removed]",
      "text/plain": [
       "<Figure size 1440x432 with 1 Axes>"
      ]
     },
     "metadata": {
      "needs_background": "light"
     },
     "output_type": "display_data"
    }
   ],
   "source": [
    "df = pd.pivot_table(train_df, index = ['keyword'], columns = ['target'], values = 'id', aggfunc = 'count', fill_value = 0 ).reset_index()\n",
    "df = df.sort_values(by = [0], ascending = False)\n",
    "plt.figure(figsize = (20, 6))\n",
    "sns.barplot(y = 0, x = 'keyword', data = df, color = \"g\", alpha = 0.6, label = 'Not Disaster')\n",
    "sns.barplot(y = 1, x = 'keyword', data = df, color = 'r', alpha = 0.6, label = 'Disaster')\n",
    "plt.title('Target distribution wrt. keyword')\n",
    "plt.xlabel('ckeyword')\n",
    "plt.ylabel('Counts')\n",
    "plt.xticks(rotation = 90, fontsize = 8)\n",
    "plt.legend()"
   ]
  },
  {
   "cell_type": "code",
   "execution_count": 12,
   "metadata": {
    "execution": {
     "iopub.execute_input": "2021-04-05T18:04:50.255585Z",
     "iopub.status.busy": "2021-04-05T18:04:50.254769Z",
     "iopub.status.idle": "2021-04-05T18:04:50.258814Z",
     "shell.execute_reply": "2021-04-05T18:04:50.258325Z"
    },
    "papermill": {
     "duration": 0.037183,
     "end_time": "2021-04-05T18:04:50.258935",
     "exception": false,
     "start_time": "2021-04-05T18:04:50.221752",
     "status": "completed"
    },
    "tags": []
   },
   "outputs": [
    {
     "data": {
      "text/plain": [
       "unk            60\n",
       "fatalities     45\n",
       "armageddon     42\n",
       "deluge         42\n",
       "damage         41\n",
       "body%20bags    41\n",
       "harm           41\n",
       "siren          40\n",
       "windstorm      40\n",
       "twister        40\n",
       "fear           40\n",
       "evacuate       40\n",
       "sunk           39\n",
       "whirlwind      39\n",
       "outbreak       39\n",
       "flames         39\n",
       "wrecked        39\n",
       "sinkhole       39\n",
       "weapons        39\n",
       "collision      39\n",
       "Name: keyword, dtype: int64"
      ]
     },
     "execution_count": 12,
     "metadata": {},
     "output_type": "execute_result"
    }
   ],
   "source": [
    "train_df['keyword'].value_counts()[0: 20]"
   ]
  },
  {
   "cell_type": "markdown",
   "metadata": {
    "papermill": {
     "duration": 0.024936,
     "end_time": "2021-04-05T18:04:50.309523",
     "exception": false,
     "start_time": "2021-04-05T18:04:50.284587",
     "status": "completed"
    },
    "tags": []
   },
   "source": [
    "# Location Column"
   ]
  },
  {
   "cell_type": "code",
   "execution_count": 13,
   "metadata": {
    "execution": {
     "iopub.execute_input": "2021-04-05T18:04:50.371331Z",
     "iopub.status.busy": "2021-04-05T18:04:50.370492Z",
     "iopub.status.idle": "2021-04-05T18:04:51.383068Z",
     "shell.execute_reply": "2021-04-05T18:04:51.382497Z"
    },
    "papermill": {
     "duration": 1.049228,
     "end_time": "2021-04-05T18:04:51.383236",
     "exception": false,
     "start_time": "2021-04-05T18:04:50.334008",
     "status": "completed"
    },
    "tags": []
   },
   "outputs": [
    {
     "data": {
      "image/png": "[encoded data removed]",
      "text/plain": [
       "<Figure size 1440x432 with 1 Axes>"
      ]
     },
     "metadata": {
      "needs_background": "light"
     },
     "output_type": "display_data"
    }
   ],
   "source": [
    "df = pd.pivot_table(train_df, index = 'location', columns = 'target', values = 'id', aggfunc = 'count', fill_value = 0).reset_index()\n",
    "df = df.sort_values(by = 0, ascending = False)\n",
    "lim = 50\n",
    "plt.figure(figsize = (20, 6))\n",
    "sns.barplot(x = 'location', y = 0, data = df.iloc[1:lim], color = 'g', alpha = 0.6, label = 'Not Disaster')\n",
    "sns.barplot(x = 'location', y = 1, data = df.iloc[1:lim], color = 'r', alpha = 0.6, label = 'Disaster')\n",
    "plt.xlabel('count')\n",
    "plt.title('Target distribution wrt. Location')\n",
    "plt.xticks(rotation = 60, fontsize = 8)\n",
    "plt.legend()\n",
    "plt.show()"
   ]
  },
  {
   "cell_type": "code",
   "execution_count": 14,
   "metadata": {
    "execution": {
     "iopub.execute_input": "2021-04-05T18:04:51.446517Z",
     "iopub.status.busy": "2021-04-05T18:04:51.444429Z",
     "iopub.status.idle": "2021-04-05T18:04:51.450539Z",
     "shell.execute_reply": "2021-04-05T18:04:51.450036Z"
    },
    "papermill": {
     "duration": 0.040477,
     "end_time": "2021-04-05T18:04:51.450674",
     "exception": false,
     "start_time": "2021-04-05T18:04:51.410197",
     "status": "completed"
    },
    "tags": []
   },
   "outputs": [
    {
     "data": {
      "text/plain": [
       "unk                2481\n",
       "USA                 104\n",
       "New York             71\n",
       "United States        50\n",
       "London               45\n",
       "Canada               29\n",
       "Los Angeles, CA      26\n",
       "UK                   26\n",
       "Nigeria              23\n",
       "Washington, DC       21\n",
       "India                21\n",
       "Mumbai               21\n",
       "Kenya                20\n",
       "Worldwide            19\n",
       "Australia            18\n",
       "Chicago, IL          18\n",
       "California           17\n",
       "Everywhere           15\n",
       "New York, NY         15\n",
       "California, USA      15\n",
       "Name: location, dtype: int64"
      ]
     },
     "execution_count": 14,
     "metadata": {},
     "output_type": "execute_result"
    }
   ],
   "source": [
    "train_df['location'].value_counts()[0:20]"
   ]
  },
  {
   "cell_type": "markdown",
   "metadata": {
    "papermill": {
     "duration": 0.027121,
     "end_time": "2021-04-05T18:04:51.505023",
     "exception": false,
     "start_time": "2021-04-05T18:04:51.477902",
     "status": "completed"
    },
    "tags": []
   },
   "source": [
    "# Text Column"
   ]
  },
  {
   "cell_type": "markdown",
   "metadata": {
    "papermill": {
     "duration": 0.026436,
     "end_time": "2021-04-05T18:04:51.558708",
     "exception": false,
     "start_time": "2021-04-05T18:04:51.532272",
     "status": "completed"
    },
    "tags": []
   },
   "source": [
    "## Text cleaning"
   ]
  },
  {
   "cell_type": "code",
   "execution_count": 15,
   "metadata": {
    "execution": {
     "iopub.execute_input": "2021-04-05T18:04:51.619981Z",
     "iopub.status.busy": "2021-04-05T18:04:51.619373Z",
     "iopub.status.idle": "2021-04-05T18:04:51.760932Z",
     "shell.execute_reply": "2021-04-05T18:04:51.760410Z"
    },
    "papermill": {
     "duration": 0.175488,
     "end_time": "2021-04-05T18:04:51.761062",
     "exception": false,
     "start_time": "2021-04-05T18:04:51.585574",
     "status": "completed"
    },
    "tags": []
   },
   "outputs": [],
   "source": [
    "train_df['ctext'] = train_df['text'].copy()\n",
    "\n",
    "def clean_txt(txt):\n",
    "    # normalizing the text\n",
    "    res = unicodedata.normalize('NFKC', txt)\n",
    "    # remove non_printable characters\n",
    "    res = re.sub(r'[^\\x00-\\x7F]+', r'', res)\n",
    "    # remove retweet chars\n",
    "    res = re.sub(r'^RT[\\s]+', r'', res)\n",
    "    # remove stock market tiker\n",
    "    res = re.sub(r'\\$\\w*', r'', res)\n",
    "    # replalce less, greater, and chars\n",
    "    res = re.sub(r'&lt;', r'<', res)\n",
    "    res = re.sub(r'&gt;', r'>', res)\n",
    "    res = re.sub(r'&amp;?', r'and', res)\n",
    "    # remove html tags\n",
    "    res = re.sub(r'<[^>]*?>', r'', res)\n",
    "    # separate contected hashtags\n",
    "    res = re.sub(r'#', r' #', res)\n",
    "    res = re.sub(r'\\s#\\s', r' ', res)\n",
    "    return res\n",
    "\n",
    "train_df['ctext'] = train_df['ctext'].apply(clean_txt )"
   ]
  },
  {
   "cell_type": "markdown",
   "metadata": {
    "papermill": {
     "duration": 0.027884,
     "end_time": "2021-04-05T18:04:51.816529",
     "exception": false,
     "start_time": "2021-04-05T18:04:51.788645",
     "status": "completed"
    },
    "tags": []
   },
   "source": [
    "### Delete Urls"
   ]
  },
  {
   "cell_type": "code",
   "execution_count": 16,
   "metadata": {
    "execution": {
     "iopub.execute_input": "2021-04-05T18:04:51.906166Z",
     "iopub.status.busy": "2021-04-05T18:04:51.901333Z",
     "iopub.status.idle": "2021-04-05T18:04:52.372102Z",
     "shell.execute_reply": "2021-04-05T18:04:52.372556Z"
    },
    "papermill": {
     "duration": 0.527158,
     "end_time": "2021-04-05T18:04:52.372715",
     "exception": false,
     "start_time": "2021-04-05T18:04:51.845557",
     "status": "completed"
    },
    "tags": []
   },
   "outputs": [
    {
     "data": {
      "image/png": "[encoded data removed]",
      "text/plain": [
       "<Figure size 360x360 with 1 Axes>"
      ]
     },
     "metadata": {
      "needs_background": "light"
     },
     "output_type": "display_data"
    }
   ],
   "source": [
    "regex = r'http\\S+|www\\.\\S+'\n",
    "sub_str = r' website '\n",
    "def apply_regex(txt, regex, sub_str):\n",
    "    matches = re.findall(regex, txt)\n",
    "    if matches:\n",
    "        ctxt = re.sub(regex, sub_str, txt)\n",
    "        return ctxt, len(matches)\n",
    "    else:\n",
    "        return txt, 0\n",
    "res = train_df['ctext'].apply(apply_regex, args = [regex, sub_str],)\n",
    "train_df['ctext'] = res.apply(lambda t:t[0])\n",
    "train_df['url'] = res.apply(lambda t:t[1])\n",
    "sns.displot(x = 'url', hue = 'target', data = train_df, palette = ['g', 'r'], kind = 'hist', legend = False)\n",
    "plt.legend(['No Disaster', 'Disaster'])\n",
    "plt.title('Target distribution wrt. number of urls in the tweet')\n",
    "plt.show()"
   ]
  },
  {
   "cell_type": "markdown",
   "metadata": {
    "papermill": {
     "duration": 0.028072,
     "end_time": "2021-04-05T18:04:52.428578",
     "exception": false,
     "start_time": "2021-04-05T18:04:52.400506",
     "status": "completed"
    },
    "tags": []
   },
   "source": [
    "* When people share no urls in the tweet, it is more likely to be not about a disastor\n",
    "* When people share one url in the tweet, it is more likely to be about a disaster\n"
   ]
  },
  {
   "cell_type": "markdown",
   "metadata": {
    "papermill": {
     "duration": 0.027793,
     "end_time": "2021-04-05T18:04:52.484332",
     "exception": false,
     "start_time": "2021-04-05T18:04:52.456539",
     "status": "completed"
    },
    "tags": []
   },
   "source": [
    "### Hash tags and mentions"
   ]
  },
  {
   "cell_type": "code",
   "execution_count": 17,
   "metadata": {
    "execution": {
     "iopub.execute_input": "2021-04-05T18:04:52.569991Z",
     "iopub.status.busy": "2021-04-05T18:04:52.564848Z",
     "iopub.status.idle": "2021-04-05T18:04:53.038624Z",
     "shell.execute_reply": "2021-04-05T18:04:53.038151Z"
    },
    "papermill": {
     "duration": 0.526554,
     "end_time": "2021-04-05T18:04:53.038756",
     "exception": false,
     "start_time": "2021-04-05T18:04:52.512202",
     "status": "completed"
    },
    "tags": []
   },
   "outputs": [
    {
     "data": {
      "image/png": "[encoded data removed]",
      "text/plain": [
       "<Figure size 360x360 with 1 Axes>"
      ]
     },
     "metadata": {
      "needs_background": "light"
     },
     "output_type": "display_data"
    }
   ],
   "source": [
    "def validate_hashtag(hashtags):\n",
    "    res = []\n",
    "    for hashtag in hashtags:\n",
    "        valid = re.findall(r'[a-zA-Z]+', hashtag)\n",
    "        if valid:\n",
    "            res.append(re.sub(r'[^\\w]*', r'', hashtag).lower())\n",
    "        else:\n",
    "            res.append('unk')\n",
    "    return res\n",
    "\n",
    "def extract_hashtags(txt):\n",
    "    regex = r'#+\\s*\\S+'\n",
    "    hash_tag_matches = re.findall(regex, txt)\n",
    "    if hash_tag_matches:\n",
    "        ctxt = re.sub(r'#+\\s*(?P<hash>\\S+)', r'\\g<hash>', txt)\n",
    "        validated_hash = list(set(validate_hashtag(hash_tag_matches)))\n",
    "        return ctxt, len(validated_hash), validated_hash\n",
    "    else:\n",
    "        return txt, 0, ['none']\n",
    "\n",
    "res = train_df['ctext'].apply(extract_hashtags)\n",
    "train_df['ctext'] = res.apply(lambda t:t[0])\n",
    "train_df['hashtag_num'] = res.apply(lambda t:t[1])\n",
    "train_df['hashtags'] = res.apply(lambda t:t[2])\n",
    "sns.displot(x = 'hashtag_num', hue = 'target', data = train_df, palette = ['g', 'r'], kind = 'hist', legend = False)\n",
    "plt.legend(['No Disaster', 'Disaster'])\n",
    "plt.title('Target distribution wrt. number of hashtags in the tweet')\n",
    "plt.show()"
   ]
  },
  {
   "cell_type": "markdown",
   "metadata": {
    "papermill": {
     "duration": 0.029353,
     "end_time": "2021-04-05T18:04:53.097797",
     "exception": false,
     "start_time": "2021-04-05T18:04:53.068444",
     "status": "completed"
    },
    "tags": []
   },
   "source": [
    "## How many words do exist in the dictionay"
   ]
  },
  {
   "cell_type": "code",
   "execution_count": 18,
   "metadata": {
    "execution": {
     "iopub.execute_input": "2021-04-05T18:04:53.295489Z",
     "iopub.status.busy": "2021-04-05T18:04:53.294668Z",
     "iopub.status.idle": "2021-04-05T18:04:53.297996Z",
     "shell.execute_reply": "2021-04-05T18:04:53.298655Z"
    },
    "papermill": {
     "duration": 0.171675,
     "end_time": "2021-04-05T18:04:53.298877",
     "exception": false,
     "start_time": "2021-04-05T18:04:53.127202",
     "status": "completed"
    },
    "tags": []
   },
   "outputs": [
    {
     "name": "stdout",
     "output_type": "stream",
     "text": [
      "Tweets contain unknown words: 71.64%\n"
     ]
    }
   ],
   "source": [
    "\n",
    "txt = ' '.join(train_df.ctext.values)\n",
    "txt = re.sub(r'[%s]' % re.escape(string.punctuation), r' ', txt)\n",
    "txt = re.sub(r'\\s+', r' ', txt)\n",
    "tokens = set(txt.split())\n",
    "word_dict = set(word_dict)\n",
    "not_word_tokens = tokens - tokens.intersection(word_dict)\n",
    "\n",
    "print(f'Tweets contain unknown words: {100 * len(not_word_tokens) / len(tokens):.2f}%')"
   ]
  },
  {
   "cell_type": "code",
   "execution_count": 19,
   "metadata": {
    "execution": {
     "iopub.execute_input": "2021-04-05T18:04:53.385436Z",
     "iopub.status.busy": "2021-04-05T18:04:53.380389Z",
     "iopub.status.idle": "2021-04-05T18:04:55.979372Z",
     "shell.execute_reply": "2021-04-05T18:04:55.978689Z"
    },
    "papermill": {
     "duration": 2.650009,
     "end_time": "2021-04-05T18:04:55.979505",
     "exception": false,
     "start_time": "2021-04-05T18:04:53.329496",
     "status": "completed"
    },
    "tags": []
   },
   "outputs": [
    {
     "name": "stdout",
     "output_type": "stream",
     "text": [
      "After stemming! Tweets contain unknown words: 69.92%\n"
     ]
    }
   ],
   "source": [
    "tokens = set([stemmer.stem(w) for w in txt.split()])\n",
    "word_dict = set(word_dict)\n",
    "not_word_tokens = tokens - tokens.intersection(word_dict)\n",
    "\n",
    "print(f'After stemming! Tweets contain unknown words: {100 * len(not_word_tokens) / len(tokens):.2f}%')"
   ]
  },
  {
   "cell_type": "code",
   "execution_count": 20,
   "metadata": {
    "execution": {
     "iopub.execute_input": "2021-04-05T18:04:56.052752Z",
     "iopub.status.busy": "2021-04-05T18:04:56.051821Z",
     "iopub.status.idle": "2021-04-05T18:04:56.056241Z",
     "shell.execute_reply": "2021-04-05T18:04:56.055666Z"
    },
    "papermill": {
     "duration": 0.042574,
     "end_time": "2021-04-05T18:04:56.056372",
     "exception": false,
     "start_time": "2021-04-05T18:04:56.013798",
     "status": "completed"
    },
    "tags": []
   },
   "outputs": [
    {
     "data": {
      "text/plain": [
       "['sharpli',\n",
       " 'mthe',\n",
       " 'phnotf',\n",
       " 'choppa',\n",
       " 'chandane',\n",
       " 'sportwatch',\n",
       " 'djicemoon',\n",
       " 'amiddl',\n",
       " 'ND',\n",
       " 'mh17',\n",
       " 'fairli',\n",
       " 'manslaught',\n",
       " 'ireport',\n",
       " 'bentley',\n",
       " 'infrastructur',\n",
       " 'richard',\n",
       " 'alot',\n",
       " 'kylekrenek',\n",
       " 'jeez',\n",
       " 'bjpsamvad',\n",
       " 'fav',\n",
       " 'vixstuart',\n",
       " 'itsnasb',\n",
       " 'koz',\n",
       " 'printabl',\n",
       " 'parentsacrossam',\n",
       " '22',\n",
       " 'mmmmmm',\n",
       " 'taungbazar',\n",
       " 'spokan']"
      ]
     },
     "execution_count": 20,
     "metadata": {},
     "output_type": "execute_result"
    }
   ],
   "source": [
    "list(not_word_tokens)[:30]"
   ]
  },
  {
   "cell_type": "markdown",
   "metadata": {
    "papermill": {
     "duration": 0.031253,
     "end_time": "2021-04-05T18:04:56.119775",
     "exception": false,
     "start_time": "2021-04-05T18:04:56.088522",
     "status": "completed"
    },
    "tags": []
   },
   "source": [
    "Unknown word exists due to:\n",
    "* stemming errors\n",
    "* name of places\n",
    "* name of persons\n",
    "* missplelling\n",
    "* concatenated words\n",
    "* abbreviations \n",
    "* ..."
   ]
  },
  {
   "cell_type": "code",
   "execution_count": null,
   "metadata": {
    "papermill": {
     "duration": 0.030933,
     "end_time": "2021-04-05T18:04:56.181659",
     "exception": false,
     "start_time": "2021-04-05T18:04:56.150726",
     "status": "completed"
    },
    "tags": []
   },
   "outputs": [],
   "source": []
  },
  {
   "cell_type": "code",
   "execution_count": null,
   "metadata": {
    "papermill": {
     "duration": 0.030748,
     "end_time": "2021-04-05T18:04:56.243231",
     "exception": false,
     "start_time": "2021-04-05T18:04:56.212483",
     "status": "completed"
    },
    "tags": []
   },
   "outputs": [],
   "source": []
  },
  {
   "cell_type": "code",
   "execution_count": null,
   "metadata": {
    "papermill": {
     "duration": 0.030702,
     "end_time": "2021-04-05T18:04:56.305301",
     "exception": false,
     "start_time": "2021-04-05T18:04:56.274599",
     "status": "completed"
    },
    "tags": []
   },
   "outputs": [],
   "source": []
  }
 ],
 "metadata": {
  "kernelspec": {
   "display_name": "Python 3",
   "language": "python",
   "name": "python3"
  },
  "language_info": {
   "codemirror_mode": {
    "name": "ipython",
    "version": 3
   },
   "file_extension": ".py",
   "mimetype": "text/x-python",
   "name": "python",
   "nbconvert_exporter": "python",
   "pygments_lexer": "ipython3",
   "version": "3.7.9"
  },
  "papermill": {
   "default_parameters": {},
   "duration": 29.812928,
   "end_time": "2021-04-05T18:04:58.096129",
   "environment_variables": {},
   "exception": null,
   "input_path": "__notebook__.ipynb",
   "output_path": "__notebook__.ipynb",
   "parameters": {},
   "start_time": "2021-04-05T18:04:28.283201",
   "version": "2.2.2"
  }
 },
 "nbformat": 4,
 "nbformat_minor": 4
}
